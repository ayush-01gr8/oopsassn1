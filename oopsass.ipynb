{
 "cells": [
  {
   "cell_type": "markdown",
   "id": "a1e07497-072c-48fb-bd52-ef8eb84a5997",
   "metadata": {},
   "source": [
    "Q1. Explain Class and Object with respect to Object-Oriented Programming. Give a suitable example."
   ]
  },
  {
   "cell_type": "markdown",
   "id": "e4d263e8-c454-4643-a4bf-9e3b51edccf6",
   "metadata": {},
   "source": [
    "A class is a blueprint or template that defines the characteristics (attributes) and behaviors (methods) of a particular type of object.\n",
    "It serves as a blueprint for creating individual objects of that class.\n",
    "An object, on the other hand, is an instance of a class.. \n",
    "It is a concrete representation of the class, with its own unique state and behavior."
   ]
  },
  {
   "cell_type": "code",
   "execution_count": null,
   "id": "d52749d4-dabb-4a92-bb3d-8eb76a61521b",
   "metadata": {},
   "outputs": [],
   "source": [
    "class car :\n",
    "    def __init__(self, make , model , year, color):\n",
    "        self.make= make\n",
    "        self.model= model\n",
    "        self.year = year\n",
    "        self.color=color\n",
    "        self.speed=0\n",
    "        \n",
    "    def engine(self):\n",
    "        print('engine started')\n",
    "        \n",
    "    def accelerate(self , speed): \n",
    "        slef.speed+= speed\n",
    "        print('accelerating to ' ,self.speed, 'km/h')\n",
    "        \n",
    "    def brake(self):\n",
    "        self.speed = print('braking')"
   ]
  },
  {
   "cell_type": "code",
   "execution_count": null,
   "id": "5270d7bd-78d3-4486-ad21-87c2b38ee136",
   "metadata": {},
   "outputs": [],
   "source": [
    "car1= car('toyota' , 'suv' , 2004, 'black')\n",
    "car2= car('tata' , 'deisel' , 2010, 'blue')"
   ]
  },
  {
   "cell_type": "code",
   "execution_count": null,
   "id": "83bb68a6-a5af-4e6c-be1c-0cbfdc61d482",
   "metadata": {},
   "outputs": [],
   "source": [
    "print(car1.make)"
   ]
  },
  {
   "cell_type": "code",
   "execution_count": null,
   "id": "e62eda20-af13-4ea7-a2e9-108337383e4e",
   "metadata": {},
   "outputs": [],
   "source": [
    "car2.engine()"
   ]
  },
  {
   "cell_type": "markdown",
   "id": "7630f5f2-2ca2-4e92-8617-f94b2b0bee71",
   "metadata": {},
   "source": [
    "Q2. Name the four pillars of OOPs."
   ]
  },
  {
   "cell_type": "code",
   "execution_count": null,
   "id": "c73ad514-24bd-479a-9c54-59cca6611fd2",
   "metadata": {},
   "outputs": [],
   "source": [
    "1.encapsulation -\n",
    " Encapsulation is the principle of bundling data (attributes) and the methods (behaviors) that operate on that\n",
    "    data into a single unit called an object.\n",
    "    \n",
    "2.polymorphism-\n",
    ": Polymorphism allows objects of different classes to be treated as objects of a common superclass\n",
    "\n",
    "3.inheritance-\n",
    "inheritance enables the creation of new classes (derived classes) based on existing classes (base or parent classes). \n",
    "\n",
    "4.abstraction-\n",
    "Abstraction involves the concept of representing complex real-world entities as simplified models within the program."
   ]
  },
  {
   "cell_type": "markdown",
   "id": "a06411d1-0330-44c4-8a1e-45b3c50a5fbd",
   "metadata": {},
   "source": [
    "Q3. Explain why the __init__() function is used. Give a suitable example."
   ]
  },
  {
   "cell_type": "code",
   "execution_count": null,
   "id": "60b68b34-e97b-4f19-9081-24030649491e",
   "metadata": {},
   "outputs": [],
   "source": [
    "The __init__() method is commonly used to assign initial values to the object's attributes based on the arguments passed \n",
    "during object creation.\n",
    "It allows us to set the initial state of the object, ensuring that the object is in a valid and usable state right after instantiation."
   ]
  },
  {
   "cell_type": "code",
   "execution_count": 1,
   "id": "90c2e981-7ab3-4f00-be8e-612f6e55a719",
   "metadata": {},
   "outputs": [],
   "source": [
    "class Person:\n",
    "    def __init__(self , name , age):\n",
    "        self.name= name\n",
    "        self.age= age\n",
    "        \n",
    "    def introduce(self): \n",
    "        print(f'my name is ',self.name, 'and i am ', self.age, 'year old')"
   ]
  },
  {
   "cell_type": "code",
   "execution_count": 3,
   "id": "2a8b3365-06d6-4d6b-a6f8-6a103500cfe5",
   "metadata": {},
   "outputs": [],
   "source": [
    "person1 = Person('alice', 23)\n",
    "person2= Person('sam', 20)"
   ]
  },
  {
   "cell_type": "code",
   "execution_count": 5,
   "id": "3de01c7c-18ba-42a3-add7-2767b8fd0fd2",
   "metadata": {},
   "outputs": [
    {
     "name": "stdout",
     "output_type": "stream",
     "text": [
      "alice\n",
      "23\n"
     ]
    }
   ],
   "source": [
    "print(person1.name)\n",
    "print(person1.age)"
   ]
  },
  {
   "cell_type": "code",
   "execution_count": 6,
   "id": "1eb37ddb-0ceb-4f9a-b23a-f620598d8ee8",
   "metadata": {},
   "outputs": [
    {
     "name": "stdout",
     "output_type": "stream",
     "text": [
      "my name is  alice and i am  23 year old\n"
     ]
    }
   ],
   "source": [
    "person1.introduce()"
   ]
  },
  {
   "cell_type": "markdown",
   "id": "41de266e-b424-44b4-9d55-ada4997b875d",
   "metadata": {},
   "source": [
    "Q4. Why self is used in OOPs?"
   ]
  },
  {
   "cell_type": "code",
   "execution_count": null,
   "id": "6ff823f6-c122-4c44-9549-89cd5c2244de",
   "metadata": {},
   "outputs": [],
   "source": [
    "In object-oriented programming (OOP), self is a convention used to refer to the instance (object) of a class within the class methods. \n",
    "It acts as a reference to the object itself, allowing the methods to access and manipulate its attributes and invoke other methods"
   ]
  },
  {
   "cell_type": "code",
   "execution_count": 7,
   "id": "af76495b-751e-41ff-b167-282a9522e590",
   "metadata": {},
   "outputs": [
    {
     "name": "stdout",
     "output_type": "stream",
     "text": [
      "Circle radius: 5\n",
      "Circle area: 78.5\n"
     ]
    }
   ],
   "source": [
    "class Circle:\n",
    "    def __init__(self, radius):\n",
    "        self.radius = radius\n",
    "\n",
    "    def calculate_area(self):\n",
    "        area = 3.14 * self.radius * self.radius\n",
    "        return area\n",
    "\n",
    "    def print_details(self):\n",
    "        print(\"Circle radius:\", self.radius)\n",
    "        print(\"Circle area:\", self.calculate_area())\n",
    "\n",
    "# Creating an object of the Circle class\n",
    "circle = Circle(5)\n",
    "\n",
    "# Accessing object attributes and invoking methods\n",
    "circle.print_details()\n"
   ]
  },
  {
   "cell_type": "markdown",
   "id": "a7b318ec-9e2a-438c-9161-515c00dfc1ad",
   "metadata": {},
   "source": [
    "Q5. What is inheritance? Give an example for each type of inheritance."
   ]
  },
  {
   "cell_type": "markdown",
   "id": "1be8e6a7-5a4d-4ccc-8c18-1d5686afb15d",
   "metadata": {},
   "source": [
    "Inheritance is a fundamental concept in object-oriented programming (OOP) that allows a new class to be derived from an existing class.\n",
    "It enables code reuse and establishes a hierarchical relationship between classes, where the derived class inherits the attributes \n",
    "and behaviors of the base class.\n",
    "The derived class can then add its own unique attributes and behaviors or override the ones inherited from the base class."
   ]
  },
  {
   "cell_type": "code",
   "execution_count": 11,
   "id": "9dd7255f-2516-4ff4-a642-dd59c33ba8d3",
   "metadata": {},
   "outputs": [],
   "source": [
    "class Vechile:\n",
    "    def __init__(self, brand):\n",
    "        self.brand= brand\n",
    "        \n",
    "        \n",
    "    def drive(self):\n",
    "        print('driving the vechile')\n",
    "        \n",
    "class car(Vechile):\n",
    "    def __init__(self , brand , model):\n",
    "        super().__init__(brand)\n",
    "        self.model = model\n",
    "        \n",
    "    def drive(self):\n",
    "        print(f\"driving the {self.model} {self.brand} car\")"
   ]
  },
  {
   "cell_type": "code",
   "execution_count": 12,
   "id": "d5ce48cf-e9e0-47d2-b08d-e618c8440b8c",
   "metadata": {},
   "outputs": [],
   "source": [
    "car1 = car('toyota' , 2004)"
   ]
  },
  {
   "cell_type": "code",
   "execution_count": 14,
   "id": "4510ef70-f654-4a60-a86a-384d0d8f4e6d",
   "metadata": {},
   "outputs": [
    {
     "name": "stdout",
     "output_type": "stream",
     "text": [
      "driving the 2004 toyota car\n"
     ]
    }
   ],
   "source": [
    "car1.drive()"
   ]
  },
  {
   "cell_type": "code",
   "execution_count": null,
   "id": "9ed2abad-e882-4249-a981-003cef34c4f1",
   "metadata": {},
   "outputs": [],
   "source": []
  }
 ],
 "metadata": {
  "kernelspec": {
   "display_name": "Python 3 (ipykernel)",
   "language": "python",
   "name": "python3"
  },
  "language_info": {
   "codemirror_mode": {
    "name": "ipython",
    "version": 3
   },
   "file_extension": ".py",
   "mimetype": "text/x-python",
   "name": "python",
   "nbconvert_exporter": "python",
   "pygments_lexer": "ipython3",
   "version": "3.10.8"
  }
 },
 "nbformat": 4,
 "nbformat_minor": 5
}
